{
 "cells": [
  {
   "cell_type": "code",
   "execution_count": 18,
   "metadata": {},
   "outputs": [
    {
     "name": "stdout",
     "output_type": "stream",
     "text": [
      "[[1 2 3]\n",
      " [4 5 6]]\n",
      "1.707825127659933\n"
     ]
    }
   ],
   "source": [
    "import numpy as np\n",
    "\n",
    "# Create a 2D array\n",
    "arr_2d = np.array([[1, 2, 3], [4, 5, 6]])\n",
    "print(arr_2d)\n",
    "print (np.std(arr_2d))"
   ]
  },
  {
   "cell_type": "code",
   "execution_count": 19,
   "metadata": {},
   "outputs": [
    {
     "name": "stdout",
     "output_type": "stream",
     "text": [
      "[ 8  9 11 18 15]\n",
      "[ True  True  True False  True]\n",
      "[False False  True  True  True False  True False  True False]\n"
     ]
    }
   ],
   "source": [
    "import numpy as np\n",
    "\n",
    "# Create a 2D array\n",
    "arr_2d = np.array([[1, 2, 3], [4, 5, 6]])\n",
    "print(arr_2d)\n",
    "print (np.std(arr_2d))\n",
    "\n",
    "a = np.array([2, 2, 3, 9, 5])\n",
    "b = np.array([6, 7, 8, 9, 10])\n",
    "\n",
    "combined = np.concatenate((a, b))\n",
    "\n",
    "c = a + b \n",
    "print(c)  # Output: [ 7  9 11 13 15]\n",
    "\n",
    "both_even = (a % 2 == 0) | (b % 2 == 0)\n",
    "print(both_even)  # Output: [False False True False True]\n",
    "\n",
    "odd_in_combined = (combined % 2 != 0)  #odd\n",
    "oddand_great_than_2 = np.logical_and(odd_in_combined, combined > 2)\n",
    "\n",
    "print(oddand_great_than_2) # Output: [False False  True  True  True False  True False  True False]\n",
    "\n",
    "\n"
   ]
  }
 ],
 "metadata": {
  "kernelspec": {
   "display_name": "Python 3",
   "language": "python",
   "name": "python3"
  },
  "language_info": {
   "codemirror_mode": {
    "name": "ipython",
    "version": 3
   },
   "file_extension": ".py",
   "mimetype": "text/x-python",
   "name": "python",
   "nbconvert_exporter": "python",
   "pygments_lexer": "ipython3",
   "version": "3.10.5"
  },
  "orig_nbformat": 4
 },
 "nbformat": 4,
 "nbformat_minor": 2
}
