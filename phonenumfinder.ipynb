{
 "cells": [
  {
   "cell_type": "code",
   "execution_count": 3,
   "metadata": {},
   "outputs": [
    {
     "name": "stdout",
     "output_type": "stream",
     "text": [
      "100 for police\n",
      "101 for fire brigade\n",
      "102 for an ambulance(Damkal)\n",
      "103 for traffic police\n",
      "104 for Children Search Coordination Centre\n",
      "105 for Nepali Army-Kathmandu\n",
      "106 for the military police\n",
      "However, those numbers will be busy must of the time and it will be inconvenient for the user. So we have done deep research and try to provide emergency numbers of respective authorities in the category of location. The category is in ascending order of the populated cities in Nepal.\n",
      "\n",
      "1.Police | Ambulance | Hospitals Contacts in Kathmandu-Emergency Numbers Nepal\n",
      "Police\tContacts\n",
      "Police Control Room\t100\n",
      "Police Control\t4228435\n",
      "Metropolitan Police Range (Kathmandu)\t4261945/4261790\n",
      "Metropolitan Police Range (Lalitpur)\t5521207\n",
      "Metropolitan Police Range (Bhaktapur)\t6614821\n",
      "Emergency Numbers of traffic police in Kathmandu\n",
      "\n",
      "\n",
      "Ambulance\tContacts\n",
      "Paropakar Ambulance Service\t\n",
      "4260859\n",
      "Lalitpur Redcross Ambulance Service\t5545666\n",
      "Bishal Bazar Ambulance Service\t4244121\n",
      "Redcross Ambulance Service\t4228094\n",
      "Nepal Ambulance Service\t 01-4427833\n",
      "Emergency Numbers of Ambulance in Kathmandu\n",
      "\n",
      "\n",
      "Others\tContacts\n",
      "Taxi Complain(SMS)\t9851295100\n",
      "Aasara Drug Rehabilitation Center\t01-4384881\n",
      "Blood Bank, Kathmandu\t4225344\n",
      "National Kidney Centre\t4429866/4426016\n",
      "Bhaktapur Redcross\t6612266\n",
      "Nepal Electricity Authority, Kathmandu\t4153164\n",
      "Nepal telecom, Kathmandu\t01-4426900\n",
      "Nepal telecom, Lalitpur(pulchowk)\t01-5010722\n",
      "Nepal telecom, Bhaktapur\t01-6610101\n",
      "['100', '101', '102', '103', '104', '105', '106', '100', '4228435', '4261945', '4261790', '5521207', '6614821', '4260859', '5545666', '4244121', '4228094', '01-4427833', '9851295100', '01-4384881', '4225344', '4429866', '4426016', '6612266', '4153164', '01-4426900', '01-5010722', '01-6610101']\n"
     ]
    }
   ],
   "source": [
    "# program to find phone numbers from the given text\n",
    "import re, pyperclip\n",
    "phoneRegex = re.compile(r'''  #this will define the pattern of phone numbers\n",
    "(\\b\\d{3}\\b)|\n",
    "(\\b\\d{10}\\b)|\n",
    "(\\b\\d{3}\\-\\d{6}\\b)|\n",
    "(\\b\\d{2}\\-\\d{7}\\b)|\n",
    "(\\b\\d{3}\\-\\d{7}\\b)|\n",
    "(\\b\\d{7}\\b)\n",
    "\n",
    "\n",
    "\n",
    "''', re.VERBOSE)\n",
    "\n",
    "text = pyperclip.paste()\n",
    "extrph = phoneRegex.findall(text)\n",
    "#print(extrph)\n",
    "print(text)\n",
    "phone_numbers = []\n",
    "for phone in extrph:\n",
    "    phone_numbers.append(''.join(phone))\n",
    "\n",
    "print(phone_numbers)"
   ]
  }
 ],
 "metadata": {
  "kernelspec": {
   "display_name": "Python 3",
   "language": "python",
   "name": "python3"
  },
  "language_info": {
   "codemirror_mode": {
    "name": "ipython",
    "version": 3
   },
   "file_extension": ".py",
   "mimetype": "text/x-python",
   "name": "python",
   "nbconvert_exporter": "python",
   "pygments_lexer": "ipython3",
   "version": "3.10.5"
  },
  "orig_nbformat": 4,
  "vscode": {
   "interpreter": {
    "hash": "26de051ba29f2982a8de78e945f0abaf191376122a1563185a90213a26c5da77"
   }
  }
 },
 "nbformat": 4,
 "nbformat_minor": 2
}
